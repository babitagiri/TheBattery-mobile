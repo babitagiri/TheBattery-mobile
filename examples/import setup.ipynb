{
 "cells": [
  {
   "cell_type": "code",
   "execution_count": 1,
   "id": "458a2fb3-6ff8-4ef4-bf4a-37cccc51c116",
   "metadata": {},
   "outputs": [
    {
     "ename": "ModuleNotFoundError",
     "evalue": "No module named 'alfred'",
     "output_type": "error",
     "traceback": [
      "\u001b[0;31m---------------------------------------------------------------------------\u001b[0m",
      "\u001b[0;31mModuleNotFoundError\u001b[0m                       Traceback (most recent call last)",
      "Cell \u001b[0;32mIn[1], line 1\u001b[0m\n\u001b[0;32m----> 1\u001b[0m \u001b[38;5;28;01mimport\u001b[39;00m \u001b[38;5;21;01malfred\u001b[39;00m\n",
      "\u001b[0;31mModuleNotFoundError\u001b[0m: No module named 'alfred'"
     ]
    }
   ],
   "source": [
    "import alfred"
   ]
  },
  {
   "cell_type": "code",
   "execution_count": 5,
   "id": "f5985f0c-6ff0-4a46-8e6b-59f1ee370cb9",
   "metadata": {},
   "outputs": [],
   "source": [
    "import sys"
   ]
  },
  {
   "cell_type": "code",
   "execution_count": 6,
   "id": "19b10730-435c-4d55-8827-787d0adddfd8",
   "metadata": {},
   "outputs": [
    {
     "name": "stdout",
     "output_type": "stream",
     "text": [
      "['../', '/home/clgould99/miniconda3/lib/python311.zip', '/home/clgould99/miniconda3/lib/python3.11', '/home/clgould99/miniconda3/lib/python3.11/lib-dynload', '', '/home/clgould99/miniconda3/lib/python3.11/site-packages']\n"
     ]
    }
   ],
   "source": [
    "print (sys.path)"
   ]
  },
  {
   "cell_type": "code",
   "execution_count": 3,
   "id": "413cfe09-1221-4415-a659-07a7bd3d417c",
   "metadata": {},
   "outputs": [],
   "source": [
    "import sys\n",
    "sys.path[0] = \"../\""
   ]
  },
  {
   "cell_type": "code",
   "execution_count": 4,
   "id": "1f9d6abf-59f1-4227-a7ca-6ced0b448bc5",
   "metadata": {},
   "outputs": [
    {
     "name": "stdout",
     "output_type": "stream",
     "text": [
      "['../', '/home/clgould99/miniconda3/lib/python311.zip', '/home/clgould99/miniconda3/lib/python3.11', '/home/clgould99/miniconda3/lib/python3.11/lib-dynload', '', '/home/clgould99/miniconda3/lib/python3.11/site-packages']\n"
     ]
    }
   ],
   "source": [
    "print (sys.path)"
   ]
  },
  {
   "cell_type": "code",
   "execution_count": 8,
   "id": "64f21120-58ec-451e-b447-ef60c74c5891",
   "metadata": {},
   "outputs": [],
   "source": [
    "import alfred"
   ]
  },
  {
   "cell_type": "code",
   "execution_count": null,
   "id": "00b5c8a6-c5de-4a88-be48-dbda5f45f8c3",
   "metadata": {},
   "outputs": [],
   "source": []
  }
 ],
 "metadata": {
  "kernelspec": {
   "display_name": "Python 3 (ipykernel)",
   "language": "python",
   "name": "python3"
  },
  "language_info": {
   "codemirror_mode": {
    "name": "ipython",
    "version": 3
   },
   "file_extension": ".py",
   "mimetype": "text/x-python",
   "name": "python",
   "nbconvert_exporter": "python",
   "pygments_lexer": "ipython3",
   "version": "3.11.5"
  }
 },
 "nbformat": 4,
 "nbformat_minor": 5
}
